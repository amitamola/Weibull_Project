{
 "cells": [
  {
   "cell_type": "markdown",
   "id": "beb4503b",
   "metadata": {},
   "source": [
    "### Important libraries"
   ]
  },
  {
   "cell_type": "code",
   "execution_count": 2,
   "id": "9fefea9d",
   "metadata": {
    "scrolled": true
   },
   "outputs": [],
   "source": [
    "import pandas as pd\n",
    "import os\n",
    "import itertools\n",
    "from sklearn.preprocessing import StandardScaler\n",
    "import numpy as np\n",
    "\n",
    "import matplotlib.pyplot as plt\n",
    "\n",
    "from matplotlib import font_manager\n",
    "font_path = 'C:\\\\Users\\\\amita\\\\AppData\\\\Local\\\\Microsoft\\\\Windows\\\\Fonts\\\\NewCM10-Regular.otf'  # Your font path goes here\n",
    "font_manager.fontManager.addfont(font_path)\n",
    "prop = font_manager.FontProperties(fname=font_path)\n",
    "\n",
    "plt.rcParams['font.family'] = 'sans-serif'\n",
    "plt.rcParams['font.sans-serif'] = prop.get_name()"
   ]
  },
  {
   "cell_type": "markdown",
   "id": "8b8fe4e3",
   "metadata": {},
   "source": [
    "## Performing KS test for all distributions\n",
    "1. Removing all the values below and above 5 and 21 respectively\n",
    "2. Standardizing the values left\n",
    "3. Performing KS test between these new values"
   ]
  },
  {
   "cell_type": "code",
   "execution_count": 4,
   "id": "3db55eee",
   "metadata": {
    "scrolled": true
   },
   "outputs": [],
   "source": [
    "import os\n",
    "import itertools\n",
    "import pandas as pd\n",
    "from scipy.stats import kstest\n",
    "\n",
    "scaler = StandardScaler()\n",
    "final_df = pd.DataFrame(columns=['loc1', 'loc2', 'season', 'ks_statistic', 'p_value'])\n",
    "\n",
    "locations = os.listdir('final_outputs')\n",
    "seasons = ['winter', 'spring', 'summer', 'autumn']\n",
    "\n",
    "# Get combination of all locations\n",
    "combinations = list(itertools.combinations(locations, 2))\n",
    "\n",
    "for comb in combinations:\n",
    "    df_loc1 = pd.read_csv(f'final_outputs/{comb[0]}/{comb[0]}.csv')\n",
    "    df_loc2 = pd.read_csv(f'final_outputs/{comb[1]}/{comb[1]}.csv')\n",
    "\n",
    "    for season in seasons:\n",
    "        temp_df1 = df_loc1[df_loc1['season'] == season]\n",
    "        temp_df1 = temp_df1[(temp_df1['wdsp']>5) & (temp_df1['wdsp']<21)]\n",
    "        temp_df1['wdsp'] = scaler.fit_transform(temp_df1['wdsp'].values.reshape(-1,1))\n",
    "\n",
    "        temp_df2 = df_loc2[df_loc2['season'] == season]\n",
    "        temp_df2 = temp_df2[(temp_df2['wdsp']>5) & (temp_df2['wdsp']<21)]\n",
    "        temp_df2['wdsp'] = scaler.fit_transform(temp_df2['wdsp'].values.reshape(-1,1))\n",
    "\n",
    "        df_ks = pd.DataFrame()\n",
    "        df_ks['wdsp'] = np.sort(np.unique(np.append(temp_df1['wdsp'].values, temp_df2['wdsp'].values)))\n",
    "\n",
    "        loc1_vals = temp_df1['wdsp'].values\n",
    "        loc2_vals = temp_df2['wdsp'].values\n",
    "        \n",
    "        stat, p_value = kstest(loc1_vals, loc2_vals)\n",
    "\n",
    "        df_ks['loc1'] = df_ks['wdsp'].apply(lambda x: np.mean(loc1_vals<=x))\n",
    "        df_ks['loc2'] = df_ks['wdsp'].apply(lambda x: np.mean(loc2_vals<=x))\n",
    "\n",
    "        k = np.argmax( np.abs(df_ks['loc1'] - df_ks['loc2']))\n",
    "        ks_stat = np.abs(df_ks['loc2'][k] - df_ks['loc1'][k])\n",
    "\n",
    "        # Append to final dataframe\n",
    "        final_df = pd.concat([final_df, pd.DataFrame({'loc1': [comb[0]], 'loc2': [comb[1]], 'season': [season],\n",
    "                                    'ks_statistic': [stat], 'p_value': [p_value]})], ignore_index=True)"
   ]
  },
  {
   "cell_type": "code",
   "execution_count": 6,
   "id": "8dae23ee",
   "metadata": {},
   "outputs": [
    {
     "data": {
      "text/html": [
       "<div>\n",
       "<style scoped>\n",
       "    .dataframe tbody tr th:only-of-type {\n",
       "        vertical-align: middle;\n",
       "    }\n",
       "\n",
       "    .dataframe tbody tr th {\n",
       "        vertical-align: top;\n",
       "    }\n",
       "\n",
       "    .dataframe thead th {\n",
       "        text-align: right;\n",
       "    }\n",
       "</style>\n",
       "<table border=\"1\" class=\"dataframe\">\n",
       "  <thead>\n",
       "    <tr style=\"text-align: right;\">\n",
       "      <th></th>\n",
       "      <th>loc1</th>\n",
       "      <th>loc2</th>\n",
       "      <th>season</th>\n",
       "      <th>ks_statistic</th>\n",
       "      <th>p_value</th>\n",
       "    </tr>\n",
       "  </thead>\n",
       "  <tbody>\n",
       "    <tr>\n",
       "      <th>0</th>\n",
       "      <td>athenry_galway</td>\n",
       "      <td>dublin_airport_dublin</td>\n",
       "      <td>winter</td>\n",
       "      <td>0.123138</td>\n",
       "      <td>7.389283e-120</td>\n",
       "    </tr>\n",
       "    <tr>\n",
       "      <th>1</th>\n",
       "      <td>athenry_galway</td>\n",
       "      <td>dublin_airport_dublin</td>\n",
       "      <td>spring</td>\n",
       "      <td>0.112822</td>\n",
       "      <td>7.276460e-101</td>\n",
       "    </tr>\n",
       "    <tr>\n",
       "      <th>2</th>\n",
       "      <td>athenry_galway</td>\n",
       "      <td>dublin_airport_dublin</td>\n",
       "      <td>summer</td>\n",
       "      <td>0.117686</td>\n",
       "      <td>1.257147e-108</td>\n",
       "    </tr>\n",
       "    <tr>\n",
       "      <th>3</th>\n",
       "      <td>athenry_galway</td>\n",
       "      <td>dublin_airport_dublin</td>\n",
       "      <td>autumn</td>\n",
       "      <td>0.139342</td>\n",
       "      <td>3.014222e-151</td>\n",
       "    </tr>\n",
       "    <tr>\n",
       "      <th>4</th>\n",
       "      <td>athenry_galway</td>\n",
       "      <td>malin_head_donegal</td>\n",
       "      <td>winter</td>\n",
       "      <td>0.158559</td>\n",
       "      <td>8.526186e-184</td>\n",
       "    </tr>\n",
       "  </tbody>\n",
       "</table>\n",
       "</div>"
      ],
      "text/plain": [
       "             loc1                   loc2  season  ks_statistic        p_value\n",
       "0  athenry_galway  dublin_airport_dublin  winter      0.123138  7.389283e-120\n",
       "1  athenry_galway  dublin_airport_dublin  spring      0.112822  7.276460e-101\n",
       "2  athenry_galway  dublin_airport_dublin  summer      0.117686  1.257147e-108\n",
       "3  athenry_galway  dublin_airport_dublin  autumn      0.139342  3.014222e-151\n",
       "4  athenry_galway     malin_head_donegal  winter      0.158559  8.526186e-184"
      ]
     },
     "execution_count": 6,
     "metadata": {},
     "output_type": "execute_result"
    }
   ],
   "source": [
    "final_df.head()"
   ]
  },
  {
   "cell_type": "code",
   "execution_count": 7,
   "id": "1f0c6efb",
   "metadata": {
    "scrolled": false
   },
   "outputs": [],
   "source": [
    "final_df.to_csv('KS_test_bw_locations_same_season_5to21.csv', index=False)"
   ]
  }
 ],
 "metadata": {
  "kernelspec": {
   "display_name": "ml_final",
   "language": "python",
   "name": "ml_final"
  },
  "language_info": {
   "codemirror_mode": {
    "name": "ipython",
    "version": 3
   },
   "file_extension": ".py",
   "mimetype": "text/x-python",
   "name": "python",
   "nbconvert_exporter": "python",
   "pygments_lexer": "ipython3",
   "version": "3.9.0"
  }
 },
 "nbformat": 4,
 "nbformat_minor": 5
}
