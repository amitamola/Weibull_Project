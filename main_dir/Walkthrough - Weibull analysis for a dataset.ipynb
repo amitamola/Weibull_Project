{
 "cells": [
  {
   "cell_type": "markdown",
   "id": "453eb6fa",
   "metadata": {},
   "source": [
    "### Import the libraries"
   ]
  },
  {
   "cell_type": "code",
   "execution_count": 1,
   "id": "341c3d1f",
   "metadata": {},
   "outputs": [],
   "source": [
    "import pandas as pd\n",
    "import os\n",
    "from reliability.Fitters import Fit_Weibull_3P, Fit_Weibull_ZI, Fit_Weibull_2P\n",
    "from reliability.Distributions import Weibull_Distribution\n",
    "\n",
    "import matplotlib.pyplot as plt\n",
    "import numpy as np"
   ]
  },
  {
   "cell_type": "markdown",
   "id": "acb6feda",
   "metadata": {},
   "source": [
    "### Get the dataset"
   ]
  },
  {
   "cell_type": "code",
   "execution_count": 2,
   "id": "2ebbb042",
   "metadata": {},
   "outputs": [],
   "source": [
    "filename = 'malin_head_donegal'"
   ]
  },
  {
   "cell_type": "code",
   "execution_count": 14,
   "id": "afbf164a",
   "metadata": {},
   "outputs": [],
   "source": [
    "df = pd.read_csv(f'Data/{filename}.csv', parse_dates=['date'])\n",
    "df['wdsp'].fillna('0', inplace=True)\n",
    "df['wdsp'].replace(' ', '0', inplace=True)\n",
    "df['wdsp'] = df['wdsp'].astype('int64')"
   ]
  },
  {
   "cell_type": "markdown",
   "id": "058f26e6",
   "metadata": {},
   "source": [
    "### Reducing the dataframe between the two dates i.e., 10 years"
   ]
  },
  {
   "cell_type": "code",
   "execution_count": 15,
   "id": "6f318ef3",
   "metadata": {},
   "outputs": [
    {
     "name": "stdout",
     "output_type": "stream",
     "text": [
      "Checking the head of the df\n",
      "                 date  wdsp\n",
      "0 2011-01-01 01:00:00    11\n",
      "1 2011-01-01 02:00:00    10\n",
      "2 2011-01-01 03:00:00    10\n",
      "3 2011-01-01 04:00:00    10\n",
      "4 2011-01-01 05:00:00    12\n",
      "\n",
      "Checking the tail of the df\n",
      "                      date  wdsp\n",
      "105186 2022-12-31 19:00:00    16\n",
      "105187 2022-12-31 20:00:00    17\n",
      "105188 2022-12-31 21:00:00    17\n",
      "105189 2022-12-31 22:00:00    16\n",
      "105190 2022-12-31 23:00:00    16\n"
     ]
    }
   ],
   "source": [
    "### 1. Keep only values that are after 2011-01-01\n",
    "df = df[(df['date'] > '2011-01-01') & (df['date']<'2023-01-01')]\n",
    "df = df.reset_index(drop=True)\n",
    "\n",
    "print(\"Checking the head of the df\")\n",
    "print(df.head())\n",
    "\n",
    "print(\"\\nChecking the tail of the df\")\n",
    "print(df.tail())"
   ]
  },
  {
   "cell_type": "markdown",
   "id": "0a6611b9",
   "metadata": {},
   "source": [
    "### Fill any NA values in between using interpolation:"
   ]
  },
  {
   "cell_type": "code",
   "execution_count": 16,
   "id": "be0f2eda",
   "metadata": {},
   "outputs": [],
   "source": [
    "df['wdsp'] = df['wdsp'].interpolate()"
   ]
  },
  {
   "cell_type": "markdown",
   "id": "f668684c",
   "metadata": {},
   "source": [
    "### Creating year, month and season column"
   ]
  },
  {
   "cell_type": "code",
   "execution_count": 17,
   "id": "def63a68",
   "metadata": {},
   "outputs": [],
   "source": [
    "# Define a function to map the month to season\n",
    "def get_season(month):\n",
    "    if month in [3, 4, 5]:\n",
    "        return 'spring'\n",
    "    elif month in [6, 7, 8]:\n",
    "        return 'summer'\n",
    "    elif month in [9, 10, 11]:\n",
    "        return 'autumn'\n",
    "    else:\n",
    "        return 'winter'\n",
    "\n",
    "# Create a new column 'year' to extract the year from the date\n",
    "df['year'] = df['date'].dt.year\n",
    "\n",
    "# Create a new column 'month' to extract the month from the date\n",
    "df['month'] = df['date'].dt.month\n",
    "\n",
    "# Create a new column 'season' by mapping the month to season\n",
    "df['season'] = df['date'].dt.month.apply(get_season)"
   ]
  },
  {
   "cell_type": "markdown",
   "id": "3dc07c7c",
   "metadata": {},
   "source": [
    "### Saving the new file"
   ]
  },
  {
   "cell_type": "code",
   "execution_count": 18,
   "id": "b2bd85cf",
   "metadata": {},
   "outputs": [],
   "source": [
    "os.makedirs(f'final_outputs/{filename}/', exist_ok=True)\n",
    "\n",
    "df.to_csv(f'final_outputs/{filename}/{filename}.csv', index=False)"
   ]
  },
  {
   "cell_type": "markdown",
   "id": "5df7d48e",
   "metadata": {},
   "source": [
    "### The weibull distribution"
   ]
  },
  {
   "cell_type": "code",
   "execution_count": 19,
   "id": "1cecd07e",
   "metadata": {},
   "outputs": [],
   "source": [
    "def weibull_function(alpha, beta, gamma, x):\n",
    "    return  (beta/alpha) * ((x-gamma)/alpha)**(beta-1) * np.exp(-((x-gamma)/alpha)**beta)"
   ]
  },
  {
   "cell_type": "markdown",
   "id": "6e3871b7",
   "metadata": {},
   "source": [
    "### Fitting Weibull distribution and finding parameters seasons in total"
   ]
  },
  {
   "cell_type": "code",
   "execution_count": 20,
   "id": "20f76b08",
   "metadata": {},
   "outputs": [],
   "source": [
    "est_method = 'LS'\n",
    "col_names = ('season', 'month', 'year', 'alpha', 'beta', 'gamma', 'mean', 'median', 'variance', 'prob_btw_5_to_21')"
   ]
  },
  {
   "cell_type": "markdown",
   "id": "fae22e6c",
   "metadata": {},
   "source": [
    "## 1. Just seasons"
   ]
  },
  {
   "cell_type": "code",
   "execution_count": 21,
   "id": "d08cbb9e",
   "metadata": {},
   "outputs": [
    {
     "name": "stdout",
     "output_type": "stream",
     "text": [
      "\u001b[21m\u001b[23m\u001b[24m\u001b[49m\u001b[91mWARNING: failures contained zeros. These have been removed to enable fitting of the Weibull_3P distribution. Consider using Fit_Weibull_ZI or Fit_Weibull_DSZI if you need to include the zero inflation in the model.\u001b[0m\n",
      "\u001b[21m\u001b[23m\u001b[24m\u001b[49m\u001b[91mWARNING: failures contained zeros. These have been removed to enable fitting of the Weibull_3P distribution. Consider using Fit_Weibull_ZI or Fit_Weibull_DSZI if you need to include the zero inflation in the model.\u001b[0m\n",
      "\u001b[21m\u001b[23m\u001b[24m\u001b[49m\u001b[91mWARNING: failures contained zeros. These have been removed to enable fitting of the Weibull_3P distribution. Consider using Fit_Weibull_ZI or Fit_Weibull_DSZI if you need to include the zero inflation in the model.\u001b[0m\n",
      "\u001b[21m\u001b[23m\u001b[24m\u001b[49m\u001b[91mWARNING: failures contained zeros. These have been removed to enable fitting of the Weibull_3P distribution. Consider using Fit_Weibull_ZI or Fit_Weibull_DSZI if you need to include the zero inflation in the model.\u001b[0m\n"
     ]
    }
   ],
   "source": [
    "entries = []\n",
    "\n",
    "ye = 'all'\n",
    "mo = 'all'\n",
    "\n",
    "for se in ['winter', 'spring', 'summer', 'autumn']:\n",
    "    datum = df[(df['season']==se)]['wdsp'].values\n",
    "    season_fit = Fit_Weibull_3P(datum, method=est_method, show_probability_plot = False, print_results=False)    \n",
    "    prob_bw = season_fit.distribution.CDF(xvals=21)-season_fit.distribution.CDF(xvals=5)\n",
    "    \n",
    "    entries.append((se, mo, ye, season_fit.alpha, season_fit.beta, season_fit.gamma, \n",
    "                    season_fit.distribution.mean, season_fit.distribution.median, \n",
    "                    season_fit.distribution.variance, prob_bw))\n",
    "    \n",
    "out_df = pd.DataFrame(entries, columns=col_names)\n",
    "out_df.to_csv(f'final_outputs/{filename}/{filename}_all.csv', index=False)"
   ]
  },
  {
   "cell_type": "markdown",
   "id": "dbe4396d",
   "metadata": {},
   "source": [
    "## 2. Year wise seasons"
   ]
  },
  {
   "cell_type": "code",
   "execution_count": 22,
   "id": "49ad63d9",
   "metadata": {
    "scrolled": true
   },
   "outputs": [
    {
     "name": "stdout",
     "output_type": "stream",
     "text": [
      "\u001b[21m\u001b[23m\u001b[24m\u001b[49m\u001b[91mWARNING: failures contained zeros. These have been removed to enable fitting of the Weibull_3P distribution. Consider using Fit_Weibull_ZI or Fit_Weibull_DSZI if you need to include the zero inflation in the model.\u001b[0m\n",
      "\u001b[21m\u001b[23m\u001b[24m\u001b[49m\u001b[91mWARNING: failures contained zeros. These have been removed to enable fitting of the Weibull_3P distribution. Consider using Fit_Weibull_ZI or Fit_Weibull_DSZI if you need to include the zero inflation in the model.\u001b[0m\n",
      "\u001b[21m\u001b[23m\u001b[24m\u001b[49m\u001b[91mWARNING: failures contained zeros. These have been removed to enable fitting of the Weibull_3P distribution. Consider using Fit_Weibull_ZI or Fit_Weibull_DSZI if you need to include the zero inflation in the model.\u001b[0m\n",
      "\u001b[21m\u001b[23m\u001b[24m\u001b[49m\u001b[91mWARNING: failures contained zeros. These have been removed to enable fitting of the Weibull_3P distribution. Consider using Fit_Weibull_ZI or Fit_Weibull_DSZI if you need to include the zero inflation in the model.\u001b[0m\n",
      "\u001b[21m\u001b[23m\u001b[24m\u001b[49m\u001b[91mWARNING: failures contained zeros. These have been removed to enable fitting of the Weibull_3P distribution. Consider using Fit_Weibull_ZI or Fit_Weibull_DSZI if you need to include the zero inflation in the model.\u001b[0m\n"
     ]
    }
   ],
   "source": [
    "entries = []\n",
    "mo = 'all'\n",
    "\n",
    "for ye in range(2013, 2023):\n",
    "    for se in ['winter', 'spring', 'summer', 'autumn']:\n",
    "        datum = df[(df['season']==se) & (df['year']==ye)]['wdsp'].values\n",
    "        season_fit = Fit_Weibull_3P(datum, method=est_method, show_probability_plot = False, print_results=False)    \n",
    "        prob_bw = season_fit.distribution.CDF(xvals=21)-season_fit.distribution.CDF(xvals=5)\n",
    "\n",
    "        entries.append((se, mo, ye, season_fit.alpha, season_fit.beta, season_fit.gamma, \n",
    "                        season_fit.distribution.mean, season_fit.distribution.median, \n",
    "                        season_fit.distribution.variance, prob_bw))\n",
    "    \n",
    "out_df = pd.DataFrame(entries, columns=col_names)\n",
    "out_df.to_csv(f'final_outputs/{filename}/{filename}_yearly_season.csv', index=False)"
   ]
  },
  {
   "cell_type": "markdown",
   "id": "cb08520b",
   "metadata": {},
   "source": [
    "## 3. Year wise months"
   ]
  },
  {
   "cell_type": "code",
   "execution_count": 23,
   "id": "48f1c9fc",
   "metadata": {},
   "outputs": [
    {
     "name": "stdout",
     "output_type": "stream",
     "text": [
      "\u001b[21m\u001b[23m\u001b[24m\u001b[49m\u001b[91mWARNING: failures contained zeros. These have been removed to enable fitting of the Weibull_3P distribution. Consider using Fit_Weibull_ZI or Fit_Weibull_DSZI if you need to include the zero inflation in the model.\u001b[0m\n",
      "\u001b[21m\u001b[23m\u001b[24m\u001b[49m\u001b[91mWARNING: failures contained zeros. These have been removed to enable fitting of the Weibull_3P distribution. Consider using Fit_Weibull_ZI or Fit_Weibull_DSZI if you need to include the zero inflation in the model.\u001b[0m\n",
      "\u001b[21m\u001b[23m\u001b[24m\u001b[49m\u001b[91mWARNING: failures contained zeros. These have been removed to enable fitting of the Weibull_3P distribution. Consider using Fit_Weibull_ZI or Fit_Weibull_DSZI if you need to include the zero inflation in the model.\u001b[0m\n",
      "\u001b[21m\u001b[23m\u001b[24m\u001b[49m\u001b[91mWARNING: failures contained zeros. These have been removed to enable fitting of the Weibull_3P distribution. Consider using Fit_Weibull_ZI or Fit_Weibull_DSZI if you need to include the zero inflation in the model.\u001b[0m\n",
      "\u001b[21m\u001b[23m\u001b[24m\u001b[49m\u001b[91mWARNING: failures contained zeros. These have been removed to enable fitting of the Weibull_3P distribution. Consider using Fit_Weibull_ZI or Fit_Weibull_DSZI if you need to include the zero inflation in the model.\u001b[0m\n",
      "\u001b[21m\u001b[23m\u001b[24m\u001b[49m\u001b[91mWARNING: failures contained zeros. These have been removed to enable fitting of the Weibull_3P distribution. Consider using Fit_Weibull_ZI or Fit_Weibull_DSZI if you need to include the zero inflation in the model.\u001b[0m\n",
      "\u001b[21m\u001b[23m\u001b[24m\u001b[49m\u001b[91mWARNING: failures contained zeros. These have been removed to enable fitting of the Weibull_3P distribution. Consider using Fit_Weibull_ZI or Fit_Weibull_DSZI if you need to include the zero inflation in the model.\u001b[0m\n"
     ]
    }
   ],
   "source": [
    "entries = []\n",
    "season_dict = {'winter':(12,1,2), 'spring':(3,4,5), 'summer':(6,7,8), 'autumn':(9,10,11)}\n",
    "\n",
    "for ye in range(2013, 2023):\n",
    "    for se in ['winter', 'spring', 'summer', 'autumn']:\n",
    "        for mo in season_dict[se]:\n",
    "            datum = df[(df['season']==se) & (df['year']==ye) & (df['month']==mo)]['wdsp'].values\n",
    "            season_fit = Fit_Weibull_3P(datum, method=est_method, show_probability_plot = False, print_results=False)    \n",
    "            prob_bw = season_fit.distribution.CDF(xvals=21)-season_fit.distribution.CDF(xvals=5)\n",
    "\n",
    "            entries.append((se, mo, ye, season_fit.alpha, season_fit.beta, season_fit.gamma, \n",
    "                            season_fit.distribution.mean, season_fit.distribution.median, \n",
    "                            season_fit.distribution.variance, prob_bw))\n",
    "    \n",
    "out_df = pd.DataFrame(entries, columns=col_names)\n",
    "out_df.to_csv(f'final_outputs/{filename}/{filename}_yearly_month.csv', index=False)"
   ]
  },
  {
   "cell_type": "code",
   "execution_count": null,
   "id": "fbbfb3dc",
   "metadata": {},
   "outputs": [],
   "source": []
  }
 ],
 "metadata": {
  "kernelspec": {
   "display_name": "ml_final",
   "language": "python",
   "name": "ml_final"
  },
  "language_info": {
   "codemirror_mode": {
    "name": "ipython",
    "version": 3
   },
   "file_extension": ".py",
   "mimetype": "text/x-python",
   "name": "python",
   "nbconvert_exporter": "python",
   "pygments_lexer": "ipython3",
   "version": "3.9.0"
  }
 },
 "nbformat": 4,
 "nbformat_minor": 5
}
